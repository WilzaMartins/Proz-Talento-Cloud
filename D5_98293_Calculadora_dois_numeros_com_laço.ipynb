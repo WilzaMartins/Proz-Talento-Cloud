{
  "nbformat": 4,
  "nbformat_minor": 0,
  "metadata": {
    "colab": {
      "provenance": [],
      "authorship_tag": "ABX9TyM7Hd9f5aNu2aU2bqZu5VJP",
      "include_colab_link": true
    },
    "kernelspec": {
      "name": "python3",
      "display_name": "Python 3"
    },
    "language_info": {
      "name": "python"
    }
  },
  "cells": [
    {
      "cell_type": "markdown",
      "metadata": {
        "id": "view-in-github",
        "colab_type": "text"
      },
      "source": [
        "<a href=\"https://colab.research.google.com/github/WilzaMartins/Proz-Talento-Cloud/blob/main/D5_98293_Calculadora_dois_numeros_com_la%C3%A7o.ipynb\" target=\"_parent\"><img src=\"https://colab.research.google.com/assets/colab-badge.svg\" alt=\"Open In Colab\"/></a>"
      ]
    },
    {
      "cell_type": "markdown",
      "source": [
        "INSTRUÇÕES DO PROJETO\n",
        "\n",
        "Faça uma função calculadora que os números e as operações serão feitas pelo usuário. O código deve ficar rodando infinitamente até que o usuário escolha a opção de sair. No início, o programa mostrará a seguinte lista de operações:\n",
        "\n",
        "1: Soma\n",
        "\n",
        "2: Subtração\n",
        "\n",
        "3: Multiplicação\n",
        "\n",
        "4: Divisão\n",
        "\n",
        "0: Sair\n",
        "\n",
        "Digite o número para a operação correspondente e caso o usuário introduza qualquer outro, o sistema deve mostrar a mensagem “Essa opção não existe” e voltar ao menu de opções.\n",
        "\n",
        "Após a seleção, o sistema deve pedir para o usuário inserir o primeiro e segundo valor, um de cada. Depois precisa executar a operação e mostrar o resultado na tela. Quando o usuário escolher a opção “Sair”, o sistema irá parar.\n",
        "\n",
        "É necessário que o sistema mostre as opções sempre que finalizar uma operação e mostrar o resultado."
      ],
      "metadata": {
        "id": "7ti6ghGPv8cv"
      }
    },
    {
      "cell_type": "code",
      "execution_count": null,
      "metadata": {
        "id": "ofcg9tgLuaHO"
      },
      "outputs": [],
      "source": [
        "# Criação da função calculadora de dois numeros\n",
        "\n",
        "def calculadora_dois_numeros(n1, n2, op): # n1 = primeiro numero da operação, n2 = segundo numero da operação e op = código da operação a ser realizada\n",
        "\n",
        "    if op == 1:\n",
        "        resultado = n1 + n2\n",
        "    elif op == 2:\n",
        "        resultado = n1 - n2\n",
        "    elif op == 3:\n",
        "        resultado = n1 * n2\n",
        "    elif op == 4:\n",
        "        if n2 != 0:  # Verifica se a divisão será por 0.\n",
        "          resultado = n1 / n2\n",
        "        else:\n",
        "          print(\"\\nATENÇÃO: Divisão por zero não é permitida.\")\n",
        "        return \"Math ERROR\"\n",
        "    else:\n",
        "        resultado = 0\n",
        "    return resultado\n",
        "\n",
        "# Código principal\n",
        "\n",
        "while True:\n",
        "    # Escolha da operação desejada\n",
        "\n",
        "  operacao = int(input(\"\\nEscolha a operação desejada:\\n\\n1: Soma\\n2: Subtração\\n3: Multiplicação\\n4: Divisão\\n0: Sair\\n\\nDigite o número para a operação correspondente: \"))\n",
        "\n",
        "    # Verifica se a opção é válida\n",
        "\n",
        "  if operacao < 0 or operacao > 4:\n",
        "    print(\"\\nEssa opção não existe! Tente novamente.\")\n",
        "    continue\n",
        "\n",
        "    # Se a opção for \"Sair\", encerra o programa\n",
        "\n",
        "  if operacao == 0:\n",
        "    print(\"\\nPrograma encerrado.\")\n",
        "    break\n",
        "\n",
        "    # Solicita os números ao usuário\n",
        "\n",
        "  num1 = float(input(\"\\nDigite o primeiro número da operação: \"))\n",
        "  num2 = float(input(\"Digite o segundo número da operação: \"))\n",
        "\n",
        "    # Executa a operação e exibe o resultado\n",
        "\n",
        "  resposta = calculadora_dois_numeros(num1, num2, operacao)\n",
        "  print(f\"\\nO resultado da operação é: {resposta}\")"
      ]
    }
  ]
}