{
  "nbformat": 4,
  "nbformat_minor": 0,
  "metadata": {
    "colab": {
      "provenance": [],
      "authorship_tag": "ABX9TyMvvxM118V8R7zVLcLhzqPO",
      "include_colab_link": true
    },
    "kernelspec": {
      "name": "python3",
      "display_name": "Python 3"
    },
    "language_info": {
      "name": "python"
    }
  },
  "cells": [
    {
      "cell_type": "markdown",
      "metadata": {
        "id": "view-in-github",
        "colab_type": "text"
      },
      "source": [
        "<a href=\"https://colab.research.google.com/github/WilzaMartins/Proz-Talento-Cloud/blob/main/Calculadora_dois_numeros_.ipynb\" target=\"_parent\"><img src=\"https://colab.research.google.com/assets/colab-badge.svg\" alt=\"Open In Colab\"/></a>"
      ]
    },
    {
      "cell_type": "markdown",
      "source": [
        "Faça uma função calculadora de dois números com três parâmetros: os dois primeiros serão os números da operação e o terceiro será a entrada que definirá a operação a ser executada. Considera a seguinte definição:\n",
        "1. Soma\n",
        "2. Subtração\n",
        "3. Multiplicação\n",
        "4. Divisão\n",
        "\n",
        "Caso seja inserido um número de operação que não exista, o resultado deverá ser 0."
      ],
      "metadata": {
        "id": "3NwocliMdZVj"
      }
    },
    {
      "cell_type": "code",
      "execution_count": 4,
      "metadata": {
        "colab": {
          "base_uri": "https://localhost:8080/"
        },
        "id": "Tnq3z0NQ6krl",
        "outputId": "71d80e35-8c49-4787-ee58-569c04eb5357"
      },
      "outputs": [
        {
          "output_type": "stream",
          "name": "stdout",
          "text": [
            "\n",
            "Digite o código da operação desejada:\n",
            "1.Soma \n",
            "2.Subtração\n",
            "3.Multiplicação\n",
            "4.Divisão\n",
            "8\n",
            "\n",
            "Digite o primeiro número da operação:\n",
            "2\n",
            "\n",
            "Digite o segundo número da operação:\n",
            "1\n",
            "\n",
            "O resultado da operação é:0\n",
            "ATENÇÃO!!! Você selecionou uma opção inválida, tente novamente.\n"
          ]
        }
      ],
      "source": [
        "# Criação da função calculadora de dois numeros\n",
        "\n",
        "def calculadora_dois_numeros (n1,n2,op): # n1 = primeiro numero da operação, n2 = segundo numero da operação e op = código da operação a ser realizada\n",
        "\n",
        "  if(op == 1):\n",
        "    resultado = n1+n2\n",
        "  elif(op == 2):\n",
        "    resultado = n1-n2\n",
        "  elif(op == 3):\n",
        "    resultado = n1*n2\n",
        "  elif(op == 4):\n",
        "    resultado = n1/n2\n",
        "  else:\n",
        "    resultado = 0\n",
        "  return resultado\n",
        "\n",
        "# Código principal\n",
        "\n",
        "# Declaração das variáveis:\n",
        "\n",
        "operacao = int(input(\"\\nDigite o código da operação desejada:\\n1.Soma \\n2.Subtração\\n3.Multiplicação\\n4.Divisão\\n\"))\n",
        "num1 = float(input(\"\\nDigite o primeiro número da operação:\\n\"))\n",
        "num2 = float(input(\"\\nDigite o segundo número da operação:\\n\"))\n",
        "\n",
        "resposta = calculadora_dois_numeros (num1,num2,operacao) # utilizaçção da função\n",
        "\n",
        "if (operacao == 1 or operacao == 2 or operacao == 3 or operacao ==4): # verifica se a operação é válida\n",
        "  print(f\" \\nO resultado da operação é:{resposta}\")\n",
        "else:\n",
        "  print(f\"\\nO resultado da operação é:{resposta}\\nATENÇÃO!!! Você selecionou uma opção inválida, tente novamente.\")"
      ]
    },
    {
      "cell_type": "markdown",
      "source": [],
      "metadata": {
        "id": "zEcc2QdY7_9E"
      }
    }
  ]
}