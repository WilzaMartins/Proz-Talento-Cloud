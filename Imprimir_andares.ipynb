{
  "nbformat": 4,
  "nbformat_minor": 0,
  "metadata": {
    "colab": {
      "provenance": [],
      "authorship_tag": "ABX9TyNsaPvfBe+GGHRMy+nrII+q",
      "include_colab_link": true
    },
    "kernelspec": {
      "name": "python3",
      "display_name": "Python 3"
    },
    "language_info": {
      "name": "python"
    }
  },
  "cells": [
    {
      "cell_type": "markdown",
      "metadata": {
        "id": "view-in-github",
        "colab_type": "text"
      },
      "source": [
        "<a href=\"https://colab.research.google.com/github/WilzaMartins/Proz-Talento-Cloud/blob/main/Imprimir_andares.ipynb\" target=\"_parent\"><img src=\"https://colab.research.google.com/assets/colab-badge.svg\" alt=\"Open In Colab\"/></a>"
      ]
    },
    {
      "cell_type": "markdown",
      "source": [
        "\n",
        "\n",
        "---\n",
        "\n",
        "\n",
        "\n",
        "Precisamos imprimir um número para cada andar de um hotel de 20 andares. Porém,\n",
        "o dono do hotel é supersticioso e optou por não ter um 13º andar.\n",
        "\n",
        "* Escreva um código que imprima todos os números exceto o número 13.\n",
        "\n",
        "* Escreva mais um código que resolva o mesmo problema, mas dessa vez usando o laço de repetição 'while'.\n",
        "\n",
        "* Como desafio, imprima eles em ordem decrescente (20, 19, 18...)\n",
        "\n",
        "\n",
        "---\n",
        "\n"
      ],
      "metadata": {
        "id": "0YRWLrKPrhW4"
      }
    },
    {
      "cell_type": "code",
      "source": [
        "# Código para imprimir o número de cada andar de um hotel, excluindo o 13º andar.\n",
        "\n",
        "# Definição das variáveis\n",
        "\n",
        "total_andares = int(input(\"Qual o número total de andares do hotel?\\n\\n\"))\n",
        "nao_mostrar_andar = int(input(\"\\nQual o número do andar que não deve ser exibido? \\n\\n\"))\n",
        "\n",
        "\n",
        "# Código utilizando for:\n",
        "\n",
        "print(\"\\n Resultado do código utilizando for:\\n\")\n",
        "\n",
        "for i in range(1, total_andares+1, 1): # o incremento será iniciado em 1, irá até o número de andares do prédio+1 e será de 1 em 1\n",
        "\n",
        "  if( i == nao_mostrar_andar):\n",
        "    continue\n",
        "  print(f\"{i}º andar\")\n",
        "\n",
        "\n",
        "# Código utilizando while:\n",
        "\n",
        "print(\"\\n Resultado do código utilizando while:\\n\")\n",
        "\n",
        "i = 0  # Valor inicial do contador\n",
        "while ( i < total_andares):\n",
        "    i = i + 1\n",
        "    if i == nao_mostrar_andar:\n",
        "     continue\n",
        "    print(f\"{i}º andar\")\n",
        "\n",
        "# Código impressão em ordem decrescente :\n",
        "\n",
        "print(\"\\n Resultado do código impressão em ordem decrescente:\\n\")\n",
        "\n",
        "for i in range(total_andares,0,-1): # o decremento será iniciado número de andares do prédio, até o número 0  e será de 1 em 1\n",
        "\n",
        "  if( i == nao_mostrar_andar):\n",
        "    continue\n",
        "  print(f\"{i}º andar\")"
      ],
      "metadata": {
        "id": "k_r1LJOkrjJW"
      },
      "execution_count": null,
      "outputs": []
    },
    {
      "cell_type": "markdown",
      "source": [],
      "metadata": {
        "id": "gRAMZEeNrmh9"
      }
    }
  ]
}