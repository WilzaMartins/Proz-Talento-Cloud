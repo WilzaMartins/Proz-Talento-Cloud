{
  "nbformat": 4,
  "nbformat_minor": 0,
  "metadata": {
    "colab": {
      "provenance": [],
      "toc_visible": true,
      "authorship_tag": "ABX9TyPIv5KVDB4VPXx/m51OlJt6",
      "include_colab_link": true
    },
    "kernelspec": {
      "name": "python3",
      "display_name": "Python 3"
    },
    "language_info": {
      "name": "python"
    }
  },
  "cells": [
    {
      "cell_type": "markdown",
      "metadata": {
        "id": "view-in-github",
        "colab_type": "text"
      },
      "source": [
        "<a href=\"https://colab.research.google.com/github/WilzaMartins/Proz-Talento-Cloud/blob/main/D5_98288_Informar_nome_e_ano_de_nascimento_.ipynb\" target=\"_parent\"><img src=\"https://colab.research.google.com/assets/colab-badge.svg\" alt=\"Open In Colab\"/></a>"
      ]
    },
    {
      "cell_type": "markdown",
      "source": [
        "Instruções do projeto:\n",
        "\n",
        "Desenvolva um programa que recebe do usuário nome completo e ano de nascimento que seja entre 1922 e 2021.\n",
        "A partir dessas informações, o sistema mostrará o nome do usuário e a idade que completou, ou completará, no ano atual (2022).\n",
        "\n",
        "Caso o usuário não digite um número ou apareça um inválido no campo do ano, o sistema informará o erro e continuará perguntando até que um valor correto seja preenchido.\n"
      ],
      "metadata": {
        "id": "9TuhRXWSQIBV"
      }
    },
    {
      "cell_type": "code",
      "execution_count": 10,
      "metadata": {
        "colab": {
          "base_uri": "https://localhost:8080/"
        },
        "id": "PCnOU-z5P49x",
        "outputId": "8d4c726a-ed2d-4f97-9124-d8a3a51d673c"
      },
      "outputs": [
        {
          "output_type": "stream",
          "name": "stdout",
          "text": [
            "Digite o seu nome completo (pelo menos dois nomes, sem caracteres especiais): w\n",
            "\n",
            "Erro: Informe pelo menos o primeiro e o segundo nome, e certifique-se de que nenhum dos nomes contenha caracteres especiais. Tente novamente.\n",
            "\n",
            "Digite o seu nome completo (pelo menos dois nomes, sem caracteres especiais): w.\n",
            "\n",
            "Erro: Informe pelo menos o primeiro e o segundo nome, e certifique-se de que nenhum dos nomes contenha caracteres especiais. Tente novamente.\n",
            "\n",
            "Digite o seu nome completo (pelo menos dois nomes, sem caracteres especiais): w . gomes\n",
            "\n",
            "Erro: Informe pelo menos o primeiro e o segundo nome, e certifique-se de que nenhum dos nomes contenha caracteres especiais. Tente novamente.\n",
            "\n",
            "Digite o seu nome completo (pelo menos dois nomes, sem caracteres especiais): w gomes \n",
            "\n",
            "Digite o ano de nascimento (1922-2022): kkkk\n",
            "\n",
            "ERRO! Digite um valor numérico válido para o ano de nascimento.\n",
            "\n",
            "Digite o ano de nascimento (1922-2022): 1901\n",
            "\n",
            "Por favor, digite um ano válido entre 1922 e 2022.\n",
            "\n",
            "Digite o ano de nascimento (1922-2022): 1979\n",
            "\n",
            "Olá, W Gomes!\n",
            " No ano de 2023, você completou ou completará 44 anos.\n"
          ]
        }
      ],
      "source": [
        "import datetime # Fornece classes para trabalhar com datas e horas em Python.\n",
        "\n",
        "while True:\n",
        "    # Solicitação do nome completo\n",
        "    nome_completo = input(\"Digite o seu nome completo (pelo menos dois nomes, sem caracteres especiais): \").strip() # Strip retira o excesso de espaço no inicio e final da entrada\n",
        "\n",
        "\n",
        "    # Coloca em maicusculo a primeira letra de cada palavra do nome\n",
        "    nome_completo = nome_completo.title()\n",
        "\n",
        "     # Verifica se o nome contém apenas caracteres especiais ou números\n",
        "    if all(char.isspace() or char.isdigit() or not char.isalnum() for char in nome_completo):\n",
        "        print(\"Erro: O nome não deve conter apenas números ou caracteres especiais. Tente novamente.\")\n",
        "        continue\n",
        "\n",
        "     # Verifica se o nome completo foi informado (pelo menos dois nomes)\n",
        "    nomes = nome_completo.split()\n",
        "    if len(nomes) < 2 or any(not nome.isalnum() for nome in nomes):\n",
        "        print(\"\\nErro: Informe pelo menos o primeiro e o segundo nome, e certifique-se de que nenhum dos nomes contenha caracteres especiais. Tente novamente.\\n\")\n",
        "        continue\n",
        "\n",
        "    # Definindo o ano inicial como 1922, caso seja necessária alguma alteração é só mudar esse valor\n",
        "    ano_inicial = 1922\n",
        "\n",
        "    # Definindo o ano final como o ano atual menos 1\n",
        "    ano_final = datetime.datetime.now().year - 1\n",
        "\n",
        "    while True:\n",
        "        # Solicitação do ano de nascimento\n",
        "      ano_nascimento_informado = (input(f\"\\nDigite o ano de nascimento ({ano_inicial}-{ano_final}): \"))\n",
        "\n",
        "      try:\n",
        "         # Conversão direta do ano de nascimento\n",
        "            ano_nascimento = int(ano_nascimento_informado)\n",
        "\n",
        "        # Verifica se o ano está no intervalo desejado\n",
        "            if ano_inicial <= ano_nascimento <= ano_final:\n",
        "                break\n",
        "            else:\n",
        "                print(f\"\\nPor favor, digite um ano válido entre {ano_inicial} e {ano_final}.\")\n",
        "      except ValueError:\n",
        "            print(\"\\nERRO! Digite um valor numérico válido para o ano de nascimento.\")\n",
        "            continue\n",
        "\n",
        "    # Cálculo da idade\n",
        "    idade = datetime.datetime.now().year - ano_nascimento\n",
        "\n",
        "    # Exibição da idade calculada\n",
        "    print(f\"\\nOlá, {nome_completo}!\\n No ano de {datetime.datetime.now().year}, você completou ou completará {idade} anos.\")\n",
        "    break"
      ]
    }
  ]
}